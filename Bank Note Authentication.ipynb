{
 "cells": [
  {
   "cell_type": "code",
   "execution_count": 1,
   "id": "478fc06a",
   "metadata": {
    "ExecuteTime": {
     "end_time": "2022-03-05T14:32:19.148845Z",
     "start_time": "2022-03-05T14:32:17.467253Z"
    }
   },
   "outputs": [],
   "source": [
    "import pandas as pd\n",
    "data = pd.read_csv(\"BankNote_Authentication.csv\")"
   ]
  },
  {
   "cell_type": "code",
   "execution_count": 2,
   "id": "7fdeae13",
   "metadata": {
    "ExecuteTime": {
     "end_time": "2022-03-05T14:32:28.209306Z",
     "start_time": "2022-03-05T14:32:28.172404Z"
    }
   },
   "outputs": [
    {
     "data": {
      "text/plain": [
       "Index(['variance', 'skewness', 'curtosis', 'entropy', 'class'], dtype='object')"
      ]
     },
     "execution_count": 2,
     "metadata": {},
     "output_type": "execute_result"
    }
   ],
   "source": [
    "data.columns"
   ]
  },
  {
   "cell_type": "code",
   "execution_count": 3,
   "id": "fc242ba9",
   "metadata": {
    "ExecuteTime": {
     "end_time": "2022-03-05T14:32:42.751310Z",
     "start_time": "2022-03-05T14:32:42.734356Z"
    }
   },
   "outputs": [
    {
     "data": {
      "text/plain": [
       "(1372, 5)"
      ]
     },
     "execution_count": 3,
     "metadata": {},
     "output_type": "execute_result"
    }
   ],
   "source": [
    "data.shape"
   ]
  },
  {
   "cell_type": "code",
   "execution_count": 44,
   "id": "b665bb65",
   "metadata": {
    "ExecuteTime": {
     "end_time": "2022-03-05T15:12:02.938243Z",
     "start_time": "2022-03-05T15:12:02.904331Z"
    }
   },
   "outputs": [
    {
     "name": "stdout",
     "output_type": "stream",
     "text": [
      "<class 'pandas.core.frame.DataFrame'>\n",
      "RangeIndex: 1372 entries, 0 to 1371\n",
      "Data columns (total 5 columns):\n",
      " #   Column    Non-Null Count  Dtype  \n",
      "---  ------    --------------  -----  \n",
      " 0   variance  1372 non-null   float64\n",
      " 1   skewness  1372 non-null   float64\n",
      " 2   curtosis  1372 non-null   float64\n",
      " 3   entropy   1372 non-null   float64\n",
      " 4   class     1372 non-null   int64  \n",
      "dtypes: float64(4), int64(1)\n",
      "memory usage: 53.7 KB\n"
     ]
    }
   ],
   "source": [
    "data.info()"
   ]
  },
  {
   "cell_type": "code",
   "execution_count": 49,
   "id": "0a71b783",
   "metadata": {
    "ExecuteTime": {
     "end_time": "2022-03-05T15:12:23.610846Z",
     "start_time": "2022-03-05T15:12:23.529066Z"
    }
   },
   "outputs": [
    {
     "data": {
      "text/html": [
       "<div>\n",
       "<style scoped>\n",
       "    .dataframe tbody tr th:only-of-type {\n",
       "        vertical-align: middle;\n",
       "    }\n",
       "\n",
       "    .dataframe tbody tr th {\n",
       "        vertical-align: top;\n",
       "    }\n",
       "\n",
       "    .dataframe thead th {\n",
       "        text-align: right;\n",
       "    }\n",
       "</style>\n",
       "<table border=\"1\" class=\"dataframe\">\n",
       "  <thead>\n",
       "    <tr style=\"text-align: right;\">\n",
       "      <th></th>\n",
       "      <th>variance</th>\n",
       "      <th>skewness</th>\n",
       "      <th>curtosis</th>\n",
       "      <th>entropy</th>\n",
       "      <th>class</th>\n",
       "    </tr>\n",
       "  </thead>\n",
       "  <tbody>\n",
       "    <tr>\n",
       "      <th>count</th>\n",
       "      <td>1372.000000</td>\n",
       "      <td>1372.000000</td>\n",
       "      <td>1372.000000</td>\n",
       "      <td>1372.000000</td>\n",
       "      <td>1372.000000</td>\n",
       "    </tr>\n",
       "    <tr>\n",
       "      <th>mean</th>\n",
       "      <td>0.433735</td>\n",
       "      <td>1.922353</td>\n",
       "      <td>1.397627</td>\n",
       "      <td>-1.191657</td>\n",
       "      <td>0.444606</td>\n",
       "    </tr>\n",
       "    <tr>\n",
       "      <th>std</th>\n",
       "      <td>2.842763</td>\n",
       "      <td>5.869047</td>\n",
       "      <td>4.310030</td>\n",
       "      <td>2.101013</td>\n",
       "      <td>0.497103</td>\n",
       "    </tr>\n",
       "    <tr>\n",
       "      <th>min</th>\n",
       "      <td>-7.042100</td>\n",
       "      <td>-13.773100</td>\n",
       "      <td>-5.286100</td>\n",
       "      <td>-8.548200</td>\n",
       "      <td>0.000000</td>\n",
       "    </tr>\n",
       "    <tr>\n",
       "      <th>25%</th>\n",
       "      <td>-1.773000</td>\n",
       "      <td>-1.708200</td>\n",
       "      <td>-1.574975</td>\n",
       "      <td>-2.413450</td>\n",
       "      <td>0.000000</td>\n",
       "    </tr>\n",
       "    <tr>\n",
       "      <th>50%</th>\n",
       "      <td>0.496180</td>\n",
       "      <td>2.319650</td>\n",
       "      <td>0.616630</td>\n",
       "      <td>-0.586650</td>\n",
       "      <td>0.000000</td>\n",
       "    </tr>\n",
       "    <tr>\n",
       "      <th>75%</th>\n",
       "      <td>2.821475</td>\n",
       "      <td>6.814625</td>\n",
       "      <td>3.179250</td>\n",
       "      <td>0.394810</td>\n",
       "      <td>1.000000</td>\n",
       "    </tr>\n",
       "    <tr>\n",
       "      <th>max</th>\n",
       "      <td>6.824800</td>\n",
       "      <td>12.951600</td>\n",
       "      <td>17.927400</td>\n",
       "      <td>2.449500</td>\n",
       "      <td>1.000000</td>\n",
       "    </tr>\n",
       "  </tbody>\n",
       "</table>\n",
       "</div>"
      ],
      "text/plain": [
       "          variance     skewness     curtosis      entropy        class\n",
       "count  1372.000000  1372.000000  1372.000000  1372.000000  1372.000000\n",
       "mean      0.433735     1.922353     1.397627    -1.191657     0.444606\n",
       "std       2.842763     5.869047     4.310030     2.101013     0.497103\n",
       "min      -7.042100   -13.773100    -5.286100    -8.548200     0.000000\n",
       "25%      -1.773000    -1.708200    -1.574975    -2.413450     0.000000\n",
       "50%       0.496180     2.319650     0.616630    -0.586650     0.000000\n",
       "75%       2.821475     6.814625     3.179250     0.394810     1.000000\n",
       "max       6.824800    12.951600    17.927400     2.449500     1.000000"
      ]
     },
     "execution_count": 49,
     "metadata": {},
     "output_type": "execute_result"
    }
   ],
   "source": [
    "data.describe()"
   ]
  },
  {
   "cell_type": "code",
   "execution_count": 50,
   "id": "47de2eab",
   "metadata": {
    "ExecuteTime": {
     "end_time": "2022-03-05T15:12:49.121011Z",
     "start_time": "2022-03-05T15:12:49.098074Z"
    }
   },
   "outputs": [],
   "source": [
    "def uniq(data):\n",
    "    for col in data.columns:\n",
    "        print(col,\":\", data[col].min(),\",\",data[col].max())"
   ]
  },
  {
   "cell_type": "code",
   "execution_count": 51,
   "id": "b3c84a60",
   "metadata": {
    "ExecuteTime": {
     "end_time": "2022-03-05T15:12:51.303559Z",
     "start_time": "2022-03-05T15:12:51.290598Z"
    }
   },
   "outputs": [
    {
     "name": "stdout",
     "output_type": "stream",
     "text": [
      "variance : -7.0421 , 6.8248\n",
      "skewness : -13.7731 , 12.9516\n",
      "curtosis : -5.2861 , 17.9274\n",
      "entropy : -8.5482 , 2.4495\n",
      "class : 0 , 1\n"
     ]
    }
   ],
   "source": [
    "uniq(data)"
   ]
  },
  {
   "cell_type": "code",
   "execution_count": 16,
   "id": "90565523",
   "metadata": {
    "ExecuteTime": {
     "end_time": "2022-03-05T14:46:36.803454Z",
     "start_time": "2022-03-05T14:46:30.886602Z"
    },
    "scrolled": true
   },
   "outputs": [
    {
     "data": {
      "image/png": "[encoded data removed]",
      "text/plain": [
       "<Figure size 2160x720 with 2 Axes>"
      ]
     },
     "metadata": {
      "needs_background": "light"
     },
     "output_type": "display_data"
    }
   ],
   "source": [
    "import seaborn as sns\n",
    "import matplotlib.pyplot as plt\n",
    "dataCorr = data.corr()\n",
    "filteredData = dataCorr[((dataCorr >= .7) | (dataCorr <= -.5)) & (dataCorr !=1.000)]\n",
    "plt.figure(figsize=(30,10))\n",
    "sns.heatmap(filteredData, annot=True, cmap=\"Reds\")\n",
    "plt.show()"
   ]
  },
  {
   "cell_type": "code",
   "execution_count": 18,
   "id": "95c88aea",
   "metadata": {
    "ExecuteTime": {
     "end_time": "2022-03-05T14:48:58.033006Z",
     "start_time": "2022-03-05T14:48:58.012062Z"
    }
   },
   "outputs": [
    {
     "data": {
      "text/plain": [
       "variance   -0.724843\n",
       "skewness   -0.444688\n",
       "curtosis    0.155883\n",
       "entropy    -0.023424\n",
       "class       1.000000\n",
       "Name: class, dtype: float64"
      ]
     },
     "execution_count": 18,
     "metadata": {},
     "output_type": "execute_result"
    }
   ],
   "source": [
    "#Correlation with output variable\n",
    "cor_target = dataCorr[\"class\"]"
   ]
  },
  {
   "cell_type": "code",
   "execution_count": 20,
   "id": "3060b5f5",
   "metadata": {
    "ExecuteTime": {
     "end_time": "2022-03-05T14:54:34.576677Z",
     "start_time": "2022-03-05T14:54:34.561055Z"
    }
   },
   "outputs": [],
   "source": [
    "X=data.drop(['class'], axis=1)  \n",
    "y=data['class']"
   ]
  },
  {
   "cell_type": "code",
   "execution_count": 21,
   "id": "814edc53",
   "metadata": {
    "ExecuteTime": {
     "end_time": "2022-03-05T14:54:45.077692Z",
     "start_time": "2022-03-05T14:54:44.555350Z"
    }
   },
   "outputs": [],
   "source": [
    "from sklearn.preprocessing import StandardScaler\n",
    "scaler = StandardScaler()\n",
    "X = scaler.fit_transform(X)"
   ]
  },
  {
   "cell_type": "code",
   "execution_count": 22,
   "id": "6337a07d",
   "metadata": {
    "ExecuteTime": {
     "end_time": "2022-03-05T14:54:52.215537Z",
     "start_time": "2022-03-05T14:54:51.822181Z"
    }
   },
   "outputs": [],
   "source": [
    "from sklearn.model_selection import train_test_split\n",
    "X_train, X_test, y_train, y_test = train_test_split(X, y, test_size = .2)"
   ]
  },
  {
   "cell_type": "code",
   "execution_count": 23,
   "id": "e633525c",
   "metadata": {
    "ExecuteTime": {
     "end_time": "2022-03-05T14:55:26.515478Z",
     "start_time": "2022-03-05T14:55:26.035137Z"
    }
   },
   "outputs": [],
   "source": [
    "from sklearn.linear_model import LogisticRegression\n",
    "lreg = LogisticRegression().fit(X_train, y_train)"
   ]
  },
  {
   "cell_type": "code",
   "execution_count": 24,
   "id": "ebc786e1",
   "metadata": {
    "ExecuteTime": {
     "end_time": "2022-03-05T14:55:57.032570Z",
     "start_time": "2022-03-05T14:55:57.012623Z"
    }
   },
   "outputs": [],
   "source": [
    "y_pred_lreg = lreg.predict(X_test)"
   ]
  },
  {
   "cell_type": "code",
   "execution_count": 25,
   "id": "a5cefe50",
   "metadata": {
    "ExecuteTime": {
     "end_time": "2022-03-05T14:57:24.879425Z",
     "start_time": "2022-03-05T14:57:24.836539Z"
    }
   },
   "outputs": [
    {
     "name": "stdout",
     "output_type": "stream",
     "text": [
      "Logistic Regression\n",
      "\n",
      "\n",
      "Confusion Matrix\n",
      "[[152   5]\n",
      " [  0 118]]\n",
      "----------------------------------------------------------------------------------------------------\n",
      "Classification Report\n",
      "              precision    recall  f1-score   support\n",
      "\n",
      "           0       1.00      0.97      0.98       157\n",
      "           1       0.96      1.00      0.98       118\n",
      "\n",
      "    accuracy                           0.98       275\n",
      "   macro avg       0.98      0.98      0.98       275\n",
      "weighted avg       0.98      0.98      0.98       275\n",
      "\n",
      "----------------------------------------------------------------------------------------------------\n",
      "Accuracy =  98.18181818 %\n"
     ]
    }
   ],
   "source": [
    "## Scoring our model\n",
    "from sklearn.metrics import classification_report, confusion_matrix, accuracy_score,f1_score, precision_score, recall_score\n",
    "\n",
    "# Confusion Matrix\n",
    "print('Logistic Regression')\n",
    "print('\\n')\n",
    "print('Confusion Matrix')\n",
    "print(confusion_matrix(y_test, y_pred_lreg))\n",
    "print('--'*50)\n",
    "\n",
    "# Classification Report\n",
    "print('Classification Report')\n",
    "print(classification_report(y_test,y_pred_lreg))\n",
    "\n",
    "\n",
    "# Accuracy of our model\n",
    "print('--'*50)\n",
    "logreg_accuracy = round(accuracy_score(y_test, y_pred_lreg) * 100,8)\n",
    "print('Accuracy = ', logreg_accuracy,'%')"
   ]
  },
  {
   "cell_type": "code",
   "execution_count": 27,
   "id": "0bf3ecd2",
   "metadata": {
    "ExecuteTime": {
     "end_time": "2022-03-05T14:58:55.691139Z",
     "start_time": "2022-03-05T14:58:55.651248Z"
    }
   },
   "outputs": [
    {
     "data": {
      "text/plain": [
       "SVC()"
      ]
     },
     "execution_count": 27,
     "metadata": {},
     "output_type": "execute_result"
    }
   ],
   "source": [
    "from sklearn.svm import SVC\n",
    "## Instantiate the model\n",
    "svc = SVC()\n",
    "# Fit the model on training data\n",
    "svc.fit(X_train, y_train)"
   ]
  },
  {
   "cell_type": "code",
   "execution_count": 29,
   "id": "ac37edbf",
   "metadata": {
    "ExecuteTime": {
     "end_time": "2022-03-05T14:59:03.653842Z",
     "start_time": "2022-03-05T14:59:03.636886Z"
    }
   },
   "outputs": [],
   "source": [
    "## Getting the predictions for x_test\n",
    "y_pred_svc = svc.predict(X_test)"
   ]
  },
  {
   "cell_type": "code",
   "execution_count": 30,
   "id": "cbaa8ff0",
   "metadata": {
    "ExecuteTime": {
     "end_time": "2022-03-05T14:59:09.035444Z",
     "start_time": "2022-03-05T14:59:08.985577Z"
    }
   },
   "outputs": [
    {
     "name": "stdout",
     "output_type": "stream",
     "text": [
      "Support Vector Classifier\n",
      "\n",
      "\n",
      "Confusion Matrix\n",
      "[[157   0]\n",
      " [  0 118]]\n",
      "----------------------------------------------------------------------------------------------------\n",
      "Classification Report\n",
      "              precision    recall  f1-score   support\n",
      "\n",
      "           0       1.00      1.00      1.00       157\n",
      "           1       1.00      1.00      1.00       118\n",
      "\n",
      "    accuracy                           1.00       275\n",
      "   macro avg       1.00      1.00      1.00       275\n",
      "weighted avg       1.00      1.00      1.00       275\n",
      "\n",
      "----------------------------------------------------------------------------------------------------\n",
      "Accuracy =  100.0 %\n"
     ]
    }
   ],
   "source": [
    "print('Support Vector Classifier')\n",
    "print('\\n')\n",
    "# Confusion matrix\n",
    "print('Confusion Matrix')\n",
    "print(confusion_matrix(y_test, y_pred_svc))\n",
    "print('--'*50)\n",
    "\n",
    "# Classification report\n",
    "print('Classification Report')\n",
    "print(classification_report(y_test, y_pred_svc))\n",
    "\n",
    "# Accuracy\n",
    "print('--'*50)\n",
    "svc_accuracy = round(accuracy_score(y_test, y_pred_svc)*100,8)\n",
    "print('Accuracy = ', svc_accuracy,'%')"
   ]
  },
  {
   "cell_type": "code",
   "execution_count": 31,
   "id": "7a97a801",
   "metadata": {
    "ExecuteTime": {
     "end_time": "2022-03-05T15:03:58.440416Z",
     "start_time": "2022-03-05T15:03:57.491216Z"
    }
   },
   "outputs": [
    {
     "name": "stdout",
     "output_type": "stream",
     "text": [
      "Best K Value: 1\n",
      "Test Accuracy: 100.0%\n"
     ]
    }
   ],
   "source": [
    "from sklearn.neighbors import KNeighborsClassifier\n",
    "\n",
    "best_Kvalue = 0\n",
    "best_score = 0\n",
    "\n",
    "for i in range(1,10):\n",
    "    knn = KNeighborsClassifier(n_neighbors=i)\n",
    "    knn.fit(X_train, y_train)\n",
    "    if knn.score(X_test, y_test) > best_score:\n",
    "        best_score = knn.score(X_train, y_train)\n",
    "        best_Kvalue = i\n",
    "        \n",
    "print(\"Best K Value: {}\".format(best_Kvalue))\n",
    "print(\"Test Accuracy: {}%\".format(round(best_score*100,2)))"
   ]
  },
  {
   "cell_type": "code",
   "execution_count": 34,
   "id": "5c218f34",
   "metadata": {
    "ExecuteTime": {
     "end_time": "2022-03-05T15:06:14.866527Z",
     "start_time": "2022-03-05T15:06:14.819650Z"
    }
   },
   "outputs": [],
   "source": [
    "knn = KNeighborsClassifier(n_neighbors=best_Kvalue)\n",
    "knn.fit(X_train, y_train)\n",
    "y_pred_knn = knn.predict(X_test)"
   ]
  },
  {
   "cell_type": "code",
   "execution_count": 42,
   "id": "9468b321",
   "metadata": {
    "ExecuteTime": {
     "end_time": "2022-03-05T15:11:28.778676Z",
     "start_time": "2022-03-05T15:11:28.735788Z"
    }
   },
   "outputs": [
    {
     "name": "stdout",
     "output_type": "stream",
     "text": [
      "K Nearest Neighbour\n",
      "\n",
      "\n",
      "Confusion Matrix\n",
      "[[156   1]\n",
      " [  0 118]]\n",
      "----------------------------------------------------------------------------------------------------\n",
      "Classification Report\n",
      "              precision    recall  f1-score   support\n",
      "\n",
      "           0       1.00      0.99      1.00       157\n",
      "           1       0.99      1.00      1.00       118\n",
      "\n",
      "    accuracy                           1.00       275\n",
      "   macro avg       1.00      1.00      1.00       275\n",
      "weighted avg       1.00      1.00      1.00       275\n",
      "\n",
      "----------------------------------------------------------------------------------------------------\n",
      "Accuracy =  99.63636364 %\n"
     ]
    }
   ],
   "source": [
    "print('K Nearest Neighbour')\n",
    "print('\\n')\n",
    "# Confusion matrix\n",
    "print('Confusion Matrix')\n",
    "print(confusion_matrix(y_test, y_pred_knn))\n",
    "print('--'*50)\n",
    "\n",
    "# Classification report\n",
    "print('Classification Report')\n",
    "print(classification_report(y_test, y_pred_knn))\n",
    "\n",
    "# Accuracy\n",
    "print('--'*50)\n",
    "knn_accuracy = round(accuracy_score(y_test, y_pred_knn)*100,8)\n",
    "print('Accuracy = ', knn_accuracy,'%')"
   ]
  },
  {
   "cell_type": "code",
   "execution_count": 36,
   "id": "bbdea3c8",
   "metadata": {
    "ExecuteTime": {
     "end_time": "2022-03-05T15:07:23.346548Z",
     "start_time": "2022-03-05T15:07:21.820761Z"
    }
   },
   "outputs": [],
   "source": [
    "from sklearn.ensemble import RandomForestClassifier\n",
    "\n",
    "# Create model object\n",
    "rfc = RandomForestClassifier()\n",
    "# Fit model to training data\n",
    "rfc.fit(X_train,y_train)\n",
    "y_pred_rfc = rfc.predict(X_test)"
   ]
  },
  {
   "cell_type": "code",
   "execution_count": 37,
   "id": "5f2653e2",
   "metadata": {
    "ExecuteTime": {
     "end_time": "2022-03-05T15:07:35.374365Z",
     "start_time": "2022-03-05T15:07:35.330484Z"
    }
   },
   "outputs": [
    {
     "name": "stdout",
     "output_type": "stream",
     "text": [
      "Random Forest\n",
      "\n",
      "\n",
      "Confusion Matrix\n",
      "[[157   0]\n",
      " [  0 118]]\n",
      "----------------------------------------------------------------------------------------------------\n",
      "Classification Report\n",
      "              precision    recall  f1-score   support\n",
      "\n",
      "           0       1.00      1.00      1.00       157\n",
      "           1       1.00      1.00      1.00       118\n",
      "\n",
      "    accuracy                           1.00       275\n",
      "   macro avg       1.00      1.00      1.00       275\n",
      "weighted avg       1.00      1.00      1.00       275\n",
      "\n",
      "----------------------------------------------------------------------------------------------------\n",
      "Accuracy =  100.0 %\n"
     ]
    }
   ],
   "source": [
    "print('Random Forest')\n",
    "# Confusion matrix\n",
    "print('\\n')\n",
    "print('Confusion Matrix')\n",
    "print(confusion_matrix(y_test, y_pred_rfc))\n",
    "\n",
    "# Classification report\n",
    "print('--'*50)\n",
    "print('Classification Report')\n",
    "print(classification_report(y_test, y_pred_rfc))\n",
    "\n",
    "# Accuracy\n",
    "print('--'*50)\n",
    "rf_accuracy = round(accuracy_score(y_test, y_pred_rfc)*100,8)\n",
    "print('Accuracy = ', rf_accuracy,'%')"
   ]
  },
  {
   "cell_type": "code",
   "execution_count": 39,
   "id": "d0a2c5eb",
   "metadata": {
    "ExecuteTime": {
     "end_time": "2022-03-05T15:09:03.838301Z",
     "start_time": "2022-03-05T15:09:03.386350Z"
    }
   },
   "outputs": [
    {
     "name": "stdout",
     "output_type": "stream",
     "text": [
      "[20:39:03] WARNING: C:/Users/Administrator/workspace/xgboost-win64_release_1.5.1/src/learner.cc:1115: Starting in XGBoost 1.3.0, the default evaluation metric used with the objective 'binary:logistic' was changed from 'error' to 'logloss'. Explicitly set eval_metric if you'd like to restore the old behavior.\n"
     ]
    }
   ],
   "source": [
    "from xgboost import XGBClassifier\n",
    "\n",
    "# Create model object\n",
    "xgb = XGBClassifier(n_jobs=-1)\n",
    "\n",
    "# Fit model to training data\n",
    "xgb.fit(X_train, y_train)\n",
    "y_pred_xgb = xgb.predict(X_test)"
   ]
  },
  {
   "cell_type": "code",
   "execution_count": 40,
   "id": "648c8964",
   "metadata": {
    "ExecuteTime": {
     "end_time": "2022-03-05T15:09:16.279867Z",
     "start_time": "2022-03-05T15:09:16.229003Z"
    }
   },
   "outputs": [
    {
     "name": "stdout",
     "output_type": "stream",
     "text": [
      "XGBoost Classifer\n",
      "\n",
      "\n",
      "Confusion Matrix\n",
      "[[157   0]\n",
      " [  0 118]]\n",
      "----------------------------------------------------------------------------------------------------\n",
      "Classification Report\n",
      "              precision    recall  f1-score   support\n",
      "\n",
      "           0       1.00      1.00      1.00       157\n",
      "           1       1.00      1.00      1.00       118\n",
      "\n",
      "    accuracy                           1.00       275\n",
      "   macro avg       1.00      1.00      1.00       275\n",
      "weighted avg       1.00      1.00      1.00       275\n",
      "\n",
      "----------------------------------------------------------------------------------------------------\n",
      "Accuracy =  100.0 %\n"
     ]
    }
   ],
   "source": [
    "print('XGBoost Classifer')\n",
    "# Confusion matrix\n",
    "print('\\n')\n",
    "print('Confusion Matrix')\n",
    "print(confusion_matrix(y_test, y_pred_xgb))\n",
    "\n",
    "# Classification report\n",
    "print('--'*50)\n",
    "print('Classification Report')\n",
    "print(classification_report(y_test, y_pred_xgb))\n",
    "\n",
    "# Accuracy\n",
    "print('--'*50)\n",
    "xgb_accuracy = round(accuracy_score(y_test, y_pred_xgb)*100,8)\n",
    "print('Accuracy = ', xgb_accuracy,'%')"
   ]
  },
  {
   "cell_type": "code",
   "execution_count": 43,
   "id": "48dbe8e9",
   "metadata": {
    "ExecuteTime": {
     "end_time": "2022-03-05T15:11:42.930818Z",
     "start_time": "2022-03-05T15:11:42.884376Z"
    }
   },
   "outputs": [
    {
     "data": {
      "text/html": [
       "<div>\n",
       "<style scoped>\n",
       "    .dataframe tbody tr th:only-of-type {\n",
       "        vertical-align: middle;\n",
       "    }\n",
       "\n",
       "    .dataframe tbody tr th {\n",
       "        vertical-align: top;\n",
       "    }\n",
       "\n",
       "    .dataframe thead th {\n",
       "        text-align: right;\n",
       "    }\n",
       "</style>\n",
       "<table border=\"1\" class=\"dataframe\">\n",
       "  <thead>\n",
       "    <tr style=\"text-align: right;\">\n",
       "      <th></th>\n",
       "      <th>Model</th>\n",
       "      <th>Score</th>\n",
       "    </tr>\n",
       "  </thead>\n",
       "  <tbody>\n",
       "    <tr>\n",
       "      <th>3</th>\n",
       "      <td>Random Forest</td>\n",
       "      <td>100.000000</td>\n",
       "    </tr>\n",
       "    <tr>\n",
       "      <th>4</th>\n",
       "      <td>XGBoost Classifier</td>\n",
       "      <td>100.000000</td>\n",
       "    </tr>\n",
       "    <tr>\n",
       "      <th>1</th>\n",
       "      <td>Linear SVC</td>\n",
       "      <td>99.636364</td>\n",
       "    </tr>\n",
       "    <tr>\n",
       "      <th>2</th>\n",
       "      <td>K-Nearest Neighbors</td>\n",
       "      <td>99.636364</td>\n",
       "    </tr>\n",
       "    <tr>\n",
       "      <th>0</th>\n",
       "      <td>Logistic Regression</td>\n",
       "      <td>98.181818</td>\n",
       "    </tr>\n",
       "  </tbody>\n",
       "</table>\n",
       "</div>"
      ],
      "text/plain": [
       "                 Model       Score\n",
       "3        Random Forest  100.000000\n",
       "4   XGBoost Classifier  100.000000\n",
       "1           Linear SVC   99.636364\n",
       "2  K-Nearest Neighbors   99.636364\n",
       "0  Logistic Regression   98.181818"
      ]
     },
     "execution_count": 43,
     "metadata": {},
     "output_type": "execute_result"
    }
   ],
   "source": [
    "models = pd.DataFrame({\n",
    "     'Model': ['Logistic Regression', 'Linear SVC', \n",
    "               'K-Nearest Neighbors', 'Random Forest','XGBoost Classifier'],\n",
    "    'Score': [logreg_accuracy, svc_accuracy, \n",
    "               knn_accuracy, rf_accuracy,xgb_accuracy]})\n",
    "models.sort_values(by='Score', ascending=False)"
   ]
  }
 ],
 "metadata": {
  "kernelspec": {
   "display_name": "Python 3 (ipykernel)",
   "language": "python",
   "name": "python3"
  },
  "language_info": {
   "codemirror_mode": {
    "name": "ipython",
    "version": 3
   },
   "file_extension": ".py",
   "mimetype": "text/x-python",
   "name": "python",
   "nbconvert_exporter": "python",
   "pygments_lexer": "ipython3",
   "version": "3.9.7"
  },
  "toc": {
   "base_numbering": 1,
   "nav_menu": {},
   "number_sections": true,
   "sideBar": true,
   "skip_h1_title": false,
   "title_cell": "Table of Contents",
   "title_sidebar": "Contents",
   "toc_cell": false,
   "toc_position": {},
   "toc_section_display": true,
   "toc_window_display": false
  },
  "varInspector": {
   "cols": {
    "lenName": 16,
    "lenType": 16,
    "lenVar": 40
   },
   "kernels_config": {
    "python": {
     "delete_cmd_postfix": "",
     "delete_cmd_prefix": "del ",
     "library": "var_list.py",
     "varRefreshCmd": "print(var_dic_list())"
    },
    "r": {
     "delete_cmd_postfix": ") ",
     "delete_cmd_prefix": "rm(",
     "library": "var_list.r",
     "varRefreshCmd": "cat(var_dic_list()) "
    }
   },
   "types_to_exclude": [
    "module",
    "function",
    "builtin_function_or_method",
    "instance",
    "_Feature"
   ],
   "window_display": false
  }
 },
 "nbformat": 4,
 "nbformat_minor": 5
}
